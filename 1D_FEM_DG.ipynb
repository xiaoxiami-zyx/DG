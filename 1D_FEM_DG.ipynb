{
 "cells": [
  {
   "cell_type": "markdown",
   "metadata": {},
   "source": [
    "# 问题\n",
    "$-u^{''}(x)=f(x), u(0)=u(1)=0$\n",
    "\n",
    "其中\n",
    "$f(x) = -(2\\cos x-(x-1)\\sin x)$\n",
    "\n",
    "真解\n",
    "$u(x) = x\\sin x$"
   ]
  },
  {
   "cell_type": "code",
   "execution_count": 71,
   "metadata": {},
   "outputs": [],
   "source": [
    "import numpy as np\n",
    "\n",
    "# 划分网格\n",
    "N = 100\n",
    "x0 = 0\n",
    "x1 = 1 \n",
    "x = np.linspace(x0, x1, N+2) # cell edges\n",
    "# xc = (x[1:] + x[:-1]) / 2   # cell centers\n",
    "\n",
    "global dx\n",
    "dx = x[1] - x[0]"
   ]
  },
  {
   "cell_type": "code",
   "execution_count": 72,
   "metadata": {},
   "outputs": [],
   "source": [
    "# 计算a(phi_i, phi_j)  \n",
    "def a(phi1:int, phi2:int):\n",
    "    if phi1 == phi2:\n",
    "        return 2.0 / dx\n",
    "    elif phi1 == phi2 + 1:\n",
    "        return -1.0 / dx\n",
    "    elif phi1 == phi2 - 1:\n",
    "        return -1.0 / dx\n",
    "    else:\n",
    "        return 0\n",
    "\n",
    "\n",
    "def f(x):\n",
    "    return -(2*np.cos(x) - (x-1)*np.sin(x))\n",
    "\n",
    "# 计算F(phi_i)\n",
    "def F(phi:int):\n",
    "    return f(x[phi]) * dx  #高斯积分"
   ]
  },
  {
   "cell_type": "code",
   "execution_count": 73,
   "metadata": {},
   "outputs": [],
   "source": [
    "A = np.zeros((N, N))\n",
    "B = np.zeros(N)\n",
    "for i in range(N):\n",
    "    for j in range(N):\n",
    "        A[i, j] = a(i, j)\n",
    "    B[i] = F(i)"
   ]
  },
  {
   "cell_type": "code",
   "execution_count": 74,
   "metadata": {},
   "outputs": [],
   "source": [
    "k = np.linalg.solve(A, B)"
   ]
  },
  {
   "cell_type": "code",
   "execution_count": 75,
   "metadata": {},
   "outputs": [
    {
     "data": {
      "image/png": "[encoded data removed]",
      "text/plain": [
       "<Figure size 640x480 with 1 Axes>"
      ]
     },
     "metadata": {},
     "output_type": "display_data"
    }
   ],
   "source": [
    "u_real = (x - 1) * np.sin(x)\n",
    "\n",
    "import matplotlib.pyplot as plt\n",
    "plt.plot(x[1:-1], k)\n",
    "plt.scatter(x, u_real)\n",
    "plt.show()"
   ]
  },
  {
   "cell_type": "markdown",
   "metadata": {},
   "source": [
    "# DG\n",
    "$\\frac{\\partial{u}}{\\partial{t}} + \\frac{\\partial{f(u)}}{\\partial{x}} = 0$\n",
    "\n",
    "$u(x,0) = \\sin x$"
   ]
  },
  {
   "cell_type": "code",
   "execution_count": 76,
   "metadata": {},
   "outputs": [],
   "source": [
    "def init_data(): # 赋初值\n",
    "    pass\n",
    "\n",
    "def get_basic(): #基函数在Gauss点和端点的值\n",
    "    pass\n",
    "\n",
    "def L2_pro(): # L2投影\n",
    "    pass\n",
    "\n",
    "def RK3(): # RK3格式\n",
    "    pass\n",
    "\n",
    "def calc_L2_error(): # 计算L2误差\n",
    "    pass"
   ]
  },
  {
   "cell_type": "code",
   "execution_count": 77,
   "metadata": {},
   "outputs": [],
   "source": [
    "def get_GLP(NumGLP): # 获取高斯积分点和权重\n",
    "    if(NumGLP == 5):\n",
    "        point = np.array([-0.9061798459386640, -0.5384693101056831 ,0, 0.5384693101056831 , 0.9061798459386640])\n",
    "        weight = np.array([0.2369268850561891, 0.4786286704993665, 0.5688888888888889,  0.4786286704993665,  0.2369268850561891])\n",
    "        return point, weight"
   ]
  },
  {
   "cell_type": "code",
   "execution_count": 78,
   "metadata": {},
   "outputs": [],
   "source": [
    "def f(x):\n",
    "    return np.sin(x)"
   ]
  },
  {
   "cell_type": "code",
   "execution_count": 79,
   "metadata": {},
   "outputs": [],
   "source": [
    "Nx = 100\n",
    "k = 2 # 多项式阶数\n",
    "NumGLP = 2*k + 1 # 高斯积分点数\n",
    "dimPk = k + 1 # Pk空间维数\n",
    "CFL = 0.1\n",
    "\n",
    "xa = 0\n",
    "xb = 2 * np.pi\n",
    "bcL = 1\n",
    "bcR = 1\n",
    "t_end = 2 * np.pi\n",
    "\n",
    "hx = (xb - xa) / Nx\n",
    "h1 = hx / 2\n",
    "\n",
    "x = np.linspace(xa, xb, Nx+1)\n",
    "xc = np.linspace(xa + h1, xb - h1, Nx)"
   ]
  },
  {
   "cell_type": "code",
   "execution_count": 80,
   "metadata": {},
   "outputs": [],
   "source": [
    "# 计算初值\n",
    "u_real = np.zeros((Nx, NumGLP)) # Nx个单元，每个单元NumGLP个高斯点\n",
    "point, weight = get_GLP(NumGLP) \n",
    "for i in range(Nx):\n",
    "    for j in range(NumGLP):\n",
    "        u_real[i, j] = f(xc[i] + h1 * point[j])"
   ]
  },
  {
   "cell_type": "code",
   "execution_count": 81,
   "metadata": {},
   "outputs": [],
   "source": [
    "#基函数在Gauss点和端点的值\n",
    "phi_Gauss = np.zeros((NumGLP,dimPk))\n",
    "phi_grad_Gauss = np.zeros((NumGLP,dimPk))\n",
    "phi_left = np.zeros(dimPk)\n",
    "phi_right = np.zeros(dimPk)\n",
    "mass = np.asarray([1, 1/3, 4/45])\n",
    "\n",
    "# phi0 = 1\n",
    "# phi1 = X\n",
    "# phi2 = X^2 - 1/3\n",
    "\n",
    "for i in range(NumGLP):\n",
    "    phi_Gauss[i,0] = 1\n",
    "    phi_grad_Gauss[i,0] = 0\n",
    "\n",
    "    phi_Gauss[i,1] = point[i]\n",
    "    phi_grad_Gauss[i,1] = 1 / h1\n",
    "\n",
    "    phi_Gauss[i,2] = point[i] ** 2 - 1/3\n",
    "    phi_grad_Gauss[i,2] = 2 * point[i] / h1\n",
    "\n",
    "phi_left[0] = 1; phi_left[1] = -1; phi_left[2] = 2 / 3\n",
    "phi_right[0] = 1; phi_right[1] = 1; phi_right[2] = 2 / 3"
   ]
  },
  {
   "cell_type": "code",
   "execution_count": 82,
   "metadata": {},
   "outputs": [],
   "source": [
    "# 获取初值L2投影\n",
    "uh = np.zeros((Nx, dimPk)) # 基函数系数\n",
    "\n",
    "for i in range(Nx): # Nx个单元\n",
    "    for j in range(dimPk): # dimPk个基函数\n",
    "        uh[i,j] = 0\n",
    "        for k in range(NumGLP): # NumGLP个高斯点\n",
    "            uh[i,j] += u_real[i,k] * phi_Gauss[k,j] * weight[k]\n",
    "\n",
    "for i in range(dimPk):\n",
    "    uh[:,i] /= 2 * mass[i]"
   ]
  },
  {
   "cell_type": "code",
   "execution_count": 83,
   "metadata": {},
   "outputs": [
    {
     "data": {
      "text/plain": [
       "[<matplotlib.lines.Line2D at 0x7f1503d5f820>]"
      ]
     },
     "execution_count": 83,
     "metadata": {},
     "output_type": "execute_result"
    },
    {
     "data": {
      "image/png": "[encoded data removed]",
      "text/plain": [
       "<Figure size 640x480 with 1 Axes>"
      ]
     },
     "metadata": {},
     "output_type": "display_data"
    }
   ],
   "source": [
    "plt.plot(xc, uh[:,0])"
   ]
  },
  {
   "cell_type": "code",
   "execution_count": 84,
   "metadata": {},
   "outputs": [],
   "source": [
    "def Lh(uh):\n",
    "    \n",
    "    # bc\n",
    "    uhb = np.array([np.zeros(dimPk), *uh, np.zeros(dimPk)])\n",
    "    if bcL == 1:\n",
    "        uhb[0] = uh[-1]\n",
    "    if bcR == 1:\n",
    "        uhb[-1] = uh[0]\n",
    "\n",
    "    # 计算内部积分项\n",
    "    du = np.zeros((Nx, dimPk))\n",
    "    uh_gauss = np.zeros((Nx, NumGLP))\n",
    "    for i in range(Nx):\n",
    "        for j in range(NumGLP):\n",
    "            for k in range(dimPk):\n",
    "                uh_gauss[i,j] += uh[i,k] * phi_Gauss[j,k]\n",
    "    \n",
    "    for i in range(Nx):\n",
    "        for j in range(dimPk):\n",
    "            for k in range(NumGLP):\n",
    "                du[i,j] += 0.5 * weight[k] * (uh_gauss[i,k]) * phi_grad_Gauss[k,j]\n",
    "\n",
    "    # 计算Flux\n",
    "    uhL = np.zeros(Nx+1)\n",
    "    uhR = np.zeros(Nx+1)\n",
    "\n",
    "    for i in range(Nx+1):\n",
    "        for j in range(dimPk):\n",
    "            uhL[i] += uhb[i,j] * phi_left[j]\n",
    "            uhR[i] += uhb[i+1,j] * phi_right[j]\n",
    "\n",
    "    Flux = np.zeros(Nx+1)\n",
    "\n",
    "    for i in range(Nx+1):\n",
    "        uR = uhL[i]\n",
    "        uL = uhR[i]\n",
    "        alp = 1\n",
    "        Flux[i] = 0.5 * (uR + uL - alp * (uR - uL))\n",
    "\n",
    "    # 计算Lh\n",
    "\n",
    "    Lh = np.zeros((Nx, dimPk))\n",
    "\n",
    "    for i in range(Nx):\n",
    "        for j in range(dimPk):\n",
    "            Lh[i,j] = du[i,j] - (Flux[i+1] * phi_right[j] - Flux[i] * phi_left[j]) / hx\n",
    "\n",
    "\n",
    "    for i in range(dimPk):\n",
    "        Lh[:,i] /= mass[i]\n",
    "\n",
    "    return Lh"
   ]
  },
  {
   "cell_type": "code",
   "execution_count": 85,
   "metadata": {},
   "outputs": [
    {
     "name": "stderr",
     "output_type": "stream",
     "text": [
      "/tmp/ipykernel_34834/4165563783.py:50: RuntimeWarning: overflow encountered in divide\n",
      "  Lh[:,i] /= mass[i]\n",
      "/tmp/ipykernel_34834/4165563783.py:21: RuntimeWarning: invalid value encountered in scalar multiply\n",
      "  du[i,j] += 0.5 * weight[k] * (uh_gauss[i,k]) * phi_grad_Gauss[k,j]\n",
      "/tmp/ipykernel_34834/4165563783.py:21: RuntimeWarning: invalid value encountered in scalar add\n",
      "  du[i,j] += 0.5 * weight[k] * (uh_gauss[i,k]) * phi_grad_Gauss[k,j]\n",
      "/tmp/ipykernel_34834/4165563783.py:38: RuntimeWarning: invalid value encountered in scalar add\n",
      "  Flux[i] = 0.5 * (uR + uL - alp * (uR - uL))\n",
      "/tmp/ipykernel_34834/4165563783.py:38: RuntimeWarning: invalid value encountered in scalar subtract\n",
      "  Flux[i] = 0.5 * (uR + uL - alp * (uR - uL))\n",
      "/tmp/ipykernel_34834/4165563783.py:16: RuntimeWarning: invalid value encountered in scalar add\n",
      "  uh_gauss[i,j] += uh[i,k] * phi_Gauss[j,k]\n",
      "/tmp/ipykernel_34834/4165563783.py:16: RuntimeWarning: invalid value encountered in scalar multiply\n",
      "  uh_gauss[i,j] += uh[i,k] * phi_Gauss[j,k]\n",
      "/tmp/ipykernel_34834/4165563783.py:29: RuntimeWarning: invalid value encountered in scalar add\n",
      "  uhL[i] += uhb[i,j] * phi_left[j]\n"
     ]
    }
   ],
   "source": [
    "dt = CFL * hx\n",
    "t = 0\n",
    "\n",
    "while t < t_end:\n",
    "    t += dt\n",
    "    \n",
    "    delta_u = Lh(uh)\n",
    "    uh += dt * delta_u"
   ]
  },
  {
   "cell_type": "code",
   "execution_count": 86,
   "metadata": {},
   "outputs": [
    {
     "data": {
      "text/plain": [
       "[<matplotlib.lines.Line2D at 0x7f1503d7dbd0>]"
      ]
     },
     "execution_count": 86,
     "metadata": {},
     "output_type": "execute_result"
    },
    {
     "data": {
      "image/png": "[encoded data removed]",
      "text/plain": [
       "<Figure size 640x480 with 1 Axes>"
      ]
     },
     "metadata": {},
     "output_type": "display_data"
    }
   ],
   "source": [
    "plt.plot(xc, uh[:,0])"
   ]
  },
  {
   "cell_type": "code",
   "execution_count": null,
   "metadata": {},
   "outputs": [],
   "source": []
  }
 ],
 "metadata": {
  "kernelspec": {
   "display_name": "Python 3",
   "language": "python",
   "name": "python3"
  },
  "language_info": {
   "codemirror_mode": {
    "name": "ipython",
    "version": 3
   },
   "file_extension": ".py",
   "mimetype": "text/x-python",
   "name": "python",
   "nbconvert_exporter": "python",
   "pygments_lexer": "ipython3",
   "version": "3.10.12"
  }
 },
 "nbformat": 4,
 "nbformat_minor": 2
}
