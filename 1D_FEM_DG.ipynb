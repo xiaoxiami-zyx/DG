{
 "cells": [
  {
   "cell_type": "markdown",
   "metadata": {},
   "source": [
    "# 问题\n",
    "$-u^{''}(x)=f(x), u(0)=u(1)=0$\n",
    "\n",
    "其中\n",
    "$f(x) = -(2\\cos x-(x-1)\\sin x)$\n",
    "\n",
    "真解\n",
    "$u(x) = x\\sin x$"
   ]
  },
  {
   "cell_type": "code",
   "execution_count": 1,
   "metadata": {},
   "outputs": [],
   "source": [
    "import numpy as np\n",
    "\n",
    "# 划分网格\n",
    "N = 100\n",
    "x0 = 0\n",
    "x1 = 1 \n",
    "x = np.linspace(x0, x1, N+2) # cell edges\n",
    "# xc = (x[1:] + x[:-1]) / 2   # cell centers\n",
    "\n",
    "global dx\n",
    "dx = x[1] - x[0]"
   ]
  },
  {
   "cell_type": "code",
   "execution_count": 2,
   "metadata": {},
   "outputs": [],
   "source": [
    "# 计算a(phi_i, phi_j)  \n",
    "def a(phi1:int, phi2:int):\n",
    "    if phi1 == phi2:\n",
    "        return 2.0 / dx\n",
    "    elif phi1 == phi2 + 1:\n",
    "        return -1.0 / dx\n",
    "    elif phi1 == phi2 - 1:\n",
    "        return -1.0 / dx\n",
    "    else:\n",
    "        return 0\n",
    "\n",
    "\n",
    "def f(x):\n",
    "    return -(2*np.cos(x) - (x-1)*np.sin(x))\n",
    "\n",
    "# 计算F(phi_i)\n",
    "def F(phi:int):\n",
    "    return f(x[phi]) * dx  #高斯积分"
   ]
  },
  {
   "cell_type": "code",
   "execution_count": 3,
   "metadata": {},
   "outputs": [],
   "source": [
    "A = np.zeros((N, N))\n",
    "B = np.zeros(N)\n",
    "for i in range(N):\n",
    "    for j in range(N):\n",
    "        A[i, j] = a(i, j)\n",
    "    B[i] = F(i)"
   ]
  },
  {
   "cell_type": "code",
   "execution_count": 4,
   "metadata": {},
   "outputs": [],
   "source": [
    "k = np.linalg.solve(A, B)"
   ]
  },
  {
   "cell_type": "code",
   "execution_count": 5,
   "metadata": {},
   "outputs": [
    {
     "name": "stderr",
     "output_type": "stream",
     "text": [
      "/home/xxm/.local/lib/python3.10/site-packages/matplotlib/projections/__init__.py:63: UserWarning: Unable to import Axes3D. This may be due to multiple versions of Matplotlib being installed (e.g. as a system package and as a pip package). As a result, the 3D projection is not available.\n",
      "  warnings.warn(\"Unable to import Axes3D. This may be due to multiple versions of \"\n"
     ]
    },
    {
     "data": {
      "image/png": "[encoded data removed]",
      "text/plain": [
       "<Figure size 640x480 with 1 Axes>"
      ]
     },
     "metadata": {},
     "output_type": "display_data"
    }
   ],
   "source": [
    "u_real = (x - 1) * np.sin(x)\n",
    "\n",
    "import matplotlib.pyplot as plt\n",
    "plt.plot(x[1:-1], k)\n",
    "plt.scatter(x, u_real)\n",
    "plt.show()"
   ]
  },
  {
   "cell_type": "markdown",
   "metadata": {},
   "source": [
    "# DG\n",
    "$\\frac{\\partial{u}}{\\partial{t}} + \\frac{\\partial{f(u)}}{\\partial{x}} = 0$\n",
    "\n",
    "$u(x,0) = \\sin x$"
   ]
  },
  {
   "cell_type": "code",
   "execution_count": null,
   "metadata": {},
   "outputs": [],
   "source": [
    "def init_data(): # 赋初值\n",
    "    pass\n",
    "\n",
    "def get_basic(): #基函数在Gauss点和端点的值\n",
    "    pass\n",
    "\n",
    "def L2_pro(): # L2投影\n",
    "    pass\n",
    "\n",
    "def RK3(): # RK3格式\n",
    "    pass\n",
    "\n",
    "def calc_L2_error(): # 计算L2误差\n",
    "    pass"
   ]
  },
  {
   "cell_type": "code",
   "execution_count": 6,
   "metadata": {},
   "outputs": [],
   "source": [
    "def get_GLP(NumGLP): # 获取高斯积分点和权重\n",
    "    if(NumGLP == 5):\n",
    "        point = np.array([-0.9061798459386640, -0.5384693101056831 ,0, 0.5384693101056831 , 0.9061798459386640])\n",
    "        weight = np.array([0.2369268850561891, 0.4786286704993665, 0.5688888888888889,  0.4786286704993665,  0.2369268850561891])\n",
    "        return point, weight"
   ]
  },
  {
   "cell_type": "code",
   "execution_count": 8,
   "metadata": {},
   "outputs": [],
   "source": [
    "def f(x):\n",
    "    return np.sin(x)"
   ]
  },
  {
   "cell_type": "code",
   "execution_count": null,
   "metadata": {},
   "outputs": [],
   "source": [
    "Nx = 100\n",
    "k = 2 # 多项式阶数\n",
    "NumGLP = 2*k + 1 # 高斯积分点数\n",
    "dimPk = k + 1 # Pk空间维数\n",
    "CFL = 0.2\n",
    "\n",
    "xa = 0\n",
    "xb = 2 * np.pi\n",
    "bcL = 1\n",
    "bcR = 1"
   ]
  }
 ],
 "metadata": {
  "kernelspec": {
   "display_name": "Python 3",
   "language": "python",
   "name": "python3"
  },
  "language_info": {
   "codemirror_mode": {
    "name": "ipython",
    "version": 3
   },
   "file_extension": ".py",
   "mimetype": "text/x-python",
   "name": "python",
   "nbconvert_exporter": "python",
   "pygments_lexer": "ipython3",
   "version": "3.10.12"
  }
 },
 "nbformat": 4,
 "nbformat_minor": 2
}
