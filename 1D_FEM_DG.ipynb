{
 "cells": [
  {
   "cell_type": "markdown",
   "metadata": {},
   "source": [
    "# 问题\n",
    "$-u^{''}(x)=f(x), u(0)=u(1)=0$\n",
    "\n",
    "其中\n",
    "$f(x) = -(2\\cos x-(x-1)\\sin x)$\n",
    "\n",
    "真解\n",
    "$u(x) = x\\sin x$"
   ]
  },
  {
   "cell_type": "code",
   "execution_count": 1,
   "metadata": {},
   "outputs": [],
   "source": [
    "import numpy as np\n",
    "\n",
    "# 划分网格\n",
    "N = 100\n",
    "x0 = 0\n",
    "x1 = 1 \n",
    "x = np.linspace(x0, x1, N+2) # cell edges\n",
    "# xc = (x[1:] + x[:-1]) / 2   # cell centers\n",
    "\n",
    "global dx\n",
    "dx = x[1] - x[0]"
   ]
  },
  {
   "cell_type": "code",
   "execution_count": 2,
   "metadata": {},
   "outputs": [],
   "source": [
    "# 计算a(phi_i, phi_j)  \n",
    "def a(phi1:int, phi2:int):\n",
    "    if phi1 == phi2:\n",
    "        return 2.0 / dx\n",
    "    elif phi1 == phi2 + 1:\n",
    "        return -1.0 / dx\n",
    "    elif phi1 == phi2 - 1:\n",
    "        return -1.0 / dx\n",
    "    else:\n",
    "        return 0\n",
    "\n",
    "\n",
    "def f(x):\n",
    "    return -(2*np.cos(x) - (x-1)*np.sin(x))\n",
    "\n",
    "# 计算F(phi_i)\n",
    "def F(phi:int):\n",
    "    return f(x[phi]) * dx  #高斯积分"
   ]
  },
  {
   "cell_type": "code",
   "execution_count": 3,
   "metadata": {},
   "outputs": [],
   "source": [
    "A = np.zeros((N, N))\n",
    "B = np.zeros(N)\n",
    "for i in range(N):\n",
    "    for j in range(N):\n",
    "        A[i, j] = a(i, j)\n",
    "    B[i] = F(i)"
   ]
  },
  {
   "cell_type": "code",
   "execution_count": 4,
   "metadata": {},
   "outputs": [],
   "source": [
    "k = np.linalg.solve(A, B)"
   ]
  },
  {
   "cell_type": "code",
   "execution_count": 5,
   "metadata": {},
   "outputs": [
    {
     "name": "stderr",
     "output_type": "stream",
     "text": [
      "/home/xxm/.local/lib/python3.10/site-packages/matplotlib/projections/__init__.py:63: UserWarning: Unable to import Axes3D. This may be due to multiple versions of Matplotlib being installed (e.g. as a system package and as a pip package). As a result, the 3D projection is not available.\n",
      "  warnings.warn(\"Unable to import Axes3D. This may be due to multiple versions of \"\n"
     ]
    },
    {
     "data": {
      "image/png": "[encoded data removed]",
      "text/plain": [
       "<Figure size 640x480 with 1 Axes>"
      ]
     },
     "metadata": {},
     "output_type": "display_data"
    }
   ],
   "source": [
    "u_real = (x - 1) * np.sin(x)\n",
    "\n",
    "import matplotlib.pyplot as plt\n",
    "plt.plot(x[1:-1], k)\n",
    "plt.scatter(x, u_real)\n",
    "plt.show()"
   ]
  },
  {
   "cell_type": "markdown",
   "metadata": {},
   "source": [
    "# DG\n",
    "$$\\frac{\\partial{u}}{\\partial{t}} + \\frac{\\partial{f(u)}}{\\partial{x}} = 0, \\quad u(x,0) = \\sin x$$"
   ]
  },
  {
   "cell_type": "code",
   "execution_count": 6,
   "metadata": {},
   "outputs": [],
   "source": [
    "def get_GLP(NumGLP): # 获取高斯积分点和权重\n",
    "    if(NumGLP == 5):\n",
    "        point = np.array([-0.9061798459386640, -0.5384693101056831 ,0, 0.5384693101056831 , 0.9061798459386640])\n",
    "        weight = np.array([0.2369268850561891, 0.4786286704993665, 0.5688888888888889,  0.4786286704993665,  0.2369268850561891])\n",
    "        return point, weight"
   ]
  },
  {
   "cell_type": "code",
   "execution_count": 7,
   "metadata": {},
   "outputs": [],
   "source": [
    "def f(u):\n",
    "    # return u\n",
    "    return 4 * u * u / (4 * u * u + (1-u)**2)"
   ]
  },
  {
   "cell_type": "code",
   "execution_count": 8,
   "metadata": {},
   "outputs": [],
   "source": [
    "Nx = 160\n",
    "k= 2 # 多项式阶数\n",
    "NumGLP = 2*k + 1 # 高斯积分点数\n",
    "dimPk = k + 1 # Pk空间维数\n",
    "CFL = 0.1\n",
    "\n",
    "xa = -1\n",
    "xb = 1\n",
    "bcL = 1\n",
    "bcR = 1\n",
    "\n",
    "hx = (xb - xa) / Nx\n",
    "h1 = hx / 2\n",
    "\n",
    "x = np.linspace(xa, xb, Nx+1)\n",
    "xc = np.linspace(xa + h1, xb - h1, Nx)"
   ]
  },
  {
   "cell_type": "code",
   "execution_count": 9,
   "metadata": {},
   "outputs": [],
   "source": [
    "def u0(x):\n",
    "    if x > -0.5 and x < 0:\n",
    "        return 1\n",
    "    else:\n",
    "        return 0"
   ]
  },
  {
   "cell_type": "code",
   "execution_count": 10,
   "metadata": {},
   "outputs": [],
   "source": [
    "# 计算初值\n",
    "u_real = np.zeros((Nx, NumGLP)) # Nx个单元，每个单元NumGLP个高斯点\n",
    "point, weight = get_GLP(NumGLP) \n",
    "for i in range(Nx):\n",
    "    for j in range(NumGLP):\n",
    "        u_real[i, j] = u0(xc[i] + h1 * point[j])"
   ]
  },
  {
   "cell_type": "code",
   "execution_count": 11,
   "metadata": {},
   "outputs": [],
   "source": [
    "#基函数在Gauss点和端点的值\n",
    "phi_Gauss = np.zeros((NumGLP,dimPk))\n",
    "phi_grad_Gauss = np.zeros((NumGLP,dimPk))\n",
    "phi_left = np.zeros(dimPk)\n",
    "phi_right = np.zeros(dimPk)\n",
    "mass = np.asarray([1, 1/3, 4/45])\n",
    "\n",
    "# X = (x - xc) / h1\n",
    "# phi0 = 1\n",
    "# phi1 = X   \n",
    "# phi2 = X^2 - 1/3\n",
    "\n",
    "for i in range(NumGLP):\n",
    "    phi_Gauss[i,0] = 1\n",
    "    phi_grad_Gauss[i,0] = 0\n",
    "\n",
    "    phi_Gauss[i,1] = point[i]\n",
    "    phi_grad_Gauss[i,1] = 1 / h1\n",
    "\n",
    "    phi_Gauss[i,2] = point[i] ** 2 - 1/3\n",
    "    phi_grad_Gauss[i,2] = 2 * point[i] / h1\n",
    "\n",
    "phi_left[0] = 1; phi_left[1] = -1; phi_left[2] = 2 / 3\n",
    "phi_right[0] = 1; phi_right[1] = 1; phi_right[2] = 2 / 3"
   ]
  },
  {
   "cell_type": "code",
   "execution_count": 12,
   "metadata": {},
   "outputs": [],
   "source": [
    "# 获取初值L2投影\n",
    "uh = np.zeros((Nx, dimPk)) # 基函数系数\n",
    "\n",
    "for i in range(Nx): # Nx个单元\n",
    "    for j in range(dimPk): # dimPk个基函数\n",
    "        for k in range(NumGLP): # NumGLP个高斯点\n",
    "            uh[i,j] += u_real[i,k] * phi_Gauss[k,j] * weight[k]\n",
    "\n",
    "for i in range(dimPk):\n",
    "    uh[:,i] /= 2 * mass[i]"
   ]
  },
  {
   "cell_type": "code",
   "execution_count": 13,
   "metadata": {},
   "outputs": [],
   "source": [
    "def get_u(uh):\n",
    "    # u_num = np.zeros((Nx, NumGLP))\n",
    "    # for i in range(Nx):\n",
    "    #     for j in range(NumGLP):\n",
    "    #         for k in range(dimPk):\n",
    "    #             u_num[i,j] += uh[i,k] * phi_Gauss[j,k]\n",
    "    u_num = np.dot(uh, phi_Gauss.T)\n",
    "    return u_num"
   ]
  },
  {
   "cell_type": "code",
   "execution_count": 14,
   "metadata": {},
   "outputs": [],
   "source": [
    "def minmod(a,b,c):\n",
    "    if abs(a) < Mtvb * hx **2:\n",
    "        return a\n",
    "    elif np.sign(a) == np.sign(b) and np.sign(b) == np.sign(c):\n",
    "        return np.sign(a) * min(abs(a), abs(b), abs(c))\n",
    "    else:\n",
    "        return 0"
   ]
  },
  {
   "cell_type": "code",
   "execution_count": 15,
   "metadata": {},
   "outputs": [],
   "source": [
    "def Maximum_Limiter(uh):\n",
    "    uhGLL = get_u(uh)\n",
    "\n",
    "    for i in range(Nx):\n",
    "        theta = 1\n",
    "        for i1 in range(NumGLP):\n",
    "            thetaq = np.min(np.abs([ (M - uh[i,0])/(uhGLL[i,i1] - uh[i,0]), (m - uh[i,0])/(uhGLL[i,i1] - uh[i,0]), 1 ]))\n",
    "            if thetaq < theta:\n",
    "                theta = thetaq\n",
    "        uh[i,1:] = uh[i,1:] * theta\n",
    "\n",
    "    return uh"
   ]
  },
  {
   "cell_type": "code",
   "execution_count": 16,
   "metadata": {},
   "outputs": [],
   "source": [
    "def TVD_Limiter(uh):\n",
    "    # bc\n",
    "    uhb = np.array([np.zeros(dimPk), *uh, np.zeros(dimPk)])\n",
    "    if bcL == 1:\n",
    "        uhb[0] = uh[-1]\n",
    "    if bcR == 1:\n",
    "        uhb[-1] = uh[0]\n",
    "\n",
    "    uhmod = np.zeros((Nx,dimPk))\n",
    "    uhmod[:,0] = uh[:,0]\n",
    "\n",
    "    for i in range(Nx):\n",
    "        deltaUR = uh[i,1] + (2/3)*uh[i,2]\n",
    "        deltaUL = uh[i,1] - (2/3)*uh[i,2]\n",
    "        deltaURM = uhb[i + 2,0] - uhb[i + 1,0]\n",
    "        deltaULM = uhb[i + 1,0] - uhb[i,0]\n",
    "    \n",
    "        deltaURM1 = minmod(deltaUR,deltaURM,deltaULM)\n",
    "        deltaULM1 = minmod(deltaUL,deltaURM,deltaULM)\n",
    "        \n",
    "        uhmod[i,1] = (deltaURM1 + deltaULM1)/2\n",
    "        uhmod[i,2] = 3*(deltaURM1 - deltaULM1)/4\n",
    "\n",
    "    return uhmod\n",
    "\n",
    "\n",
    "\n",
    "def Lh(uh):\n",
    "    \n",
    "    # bc\n",
    "    uhb = np.array([np.zeros(dimPk), *uh, np.zeros(dimPk)])\n",
    "    if bcL == 1:\n",
    "        uhb[0] = uh[-1]\n",
    "    if bcR == 1:\n",
    "        uhb[-1] = uh[0]\n",
    "\n",
    "    # 计算内部积分项\n",
    "    uh_gauss = get_u(uh)\n",
    "    weight_matrix = np.diag(weight)\n",
    "\n",
    "    # du = np.zeros((Nx, dimPk))\n",
    "    # for i in range(Nx):\n",
    "    #     for j in range(dimPk):\n",
    "    #         for k in range(NumGLP):\n",
    "    #             du[i,j] += 0.5 * weight[k] * f(uh_gauss[i,k]) * phi_grad_Gauss[k,j]\n",
    "\n",
    "    du = 0.5 * f(uh_gauss) @ weight_matrix @ phi_grad_Gauss  # [i,k] × [k,k] × [k,j] = [i,j]\n",
    "\n",
    "\n",
    "\n",
    "    # 计算Flux\n",
    "    uhL = np.zeros(Nx+1)\n",
    "    uhR = np.zeros(Nx+1)\n",
    "\n",
    "    for i in range(Nx+1):\n",
    "        for j in range(dimPk):\n",
    "            uhR[i] += uhb[i,j] * phi_right[j]\n",
    "            uhL[i] += uhb[i+1,j] * phi_left[j]\n",
    "\n",
    "    Flux = np.zeros(Nx+1)\n",
    "\n",
    "    for i in range(Nx+1):\n",
    "        uR = uhL[i]\n",
    "        uL = uhR[i]\n",
    "        alp = 2.35\n",
    "        Flux[i] = 0.5 * (f(uR) + f(uL) - alp * (uR - uL))\n",
    "\n",
    "    # 计算Lh\n",
    "\n",
    "    Lh = np.zeros((Nx, dimPk))\n",
    "\n",
    "    for i in range(Nx):\n",
    "        for j in range(dimPk):\n",
    "            Lh[i,j] = du[i,j] - (Flux[i+1] * phi_right[j] - Flux[i] * phi_left[j]) / hx\n",
    "\n",
    "\n",
    "    for i in range(dimPk):\n",
    "        Lh[:,i] /= mass[i]\n",
    "\n",
    "    return Lh"
   ]
  },
  {
   "cell_type": "code",
   "execution_count": 17,
   "metadata": {},
   "outputs": [],
   "source": [
    "CFL = 0.05\n",
    "dt = CFL * hx\n",
    "t = 0"
   ]
  },
  {
   "cell_type": "code",
   "execution_count": 18,
   "metadata": {},
   "outputs": [
    {
     "name": "stderr",
     "output_type": "stream",
     "text": [
      "/tmp/ipykernel_13098/1325414386.py:7: RuntimeWarning: divide by zero encountered in scalar divide\n",
      "  thetaq = np.min(np.abs([ (M - uh[i,0])/(uhGLL[i,i1] - uh[i,0]), (m - uh[i,0])/(uhGLL[i,i1] - uh[i,0]), 1 ]))\n",
      "/tmp/ipykernel_13098/1325414386.py:7: RuntimeWarning: invalid value encountered in scalar divide\n",
      "  thetaq = np.min(np.abs([ (M - uh[i,0])/(uhGLL[i,i1] - uh[i,0]), (m - uh[i,0])/(uhGLL[i,i1] - uh[i,0]), 1 ]))\n"
     ]
    },
    {
     "data": {
      "text/plain": [
       "<matplotlib.collections.PathCollection at 0x7f14a17f6680>"
      ]
     },
     "execution_count": 18,
     "metadata": {},
     "output_type": "execute_result"
    },
    {
     "data": {
      "image/png": "[encoded data removed]",
      "text/plain": [
       "<Figure size 640x480 with 1 Axes>"
      ]
     },
     "metadata": {},
     "output_type": "display_data"
    }
   ],
   "source": [
    "M = 1\n",
    "m = 0\n",
    "Mtvb = 0\n",
    "for i in range(int(0.4/dt)):\n",
    "    t += dt\n",
    "    \n",
    "    delta_u = Lh(uh)\n",
    "    uh1 = uh + dt * delta_u\n",
    "    uh1 = TVD_Limiter(uh1)\n",
    "    uh1 = Maximum_Limiter(uh1)\n",
    "\n",
    "    delta_u = Lh(uh1)\n",
    "    uh2 = 0.75 * uh + 0.25 * (uh1 + dt * delta_u)\n",
    "    uh2 = TVD_Limiter(uh2)\n",
    "    uh2 = Maximum_Limiter(uh2)\n",
    "\n",
    "    delta_u = Lh(uh2)\n",
    "    uh = 1/3 * uh + 2/3 * (uh2 + dt * delta_u)\n",
    "    uh = TVD_Limiter(uh)\n",
    "    uh = Maximum_Limiter(uh)\n",
    "\n",
    "u_num = np.zeros((Nx, NumGLP))\n",
    "for i in range(Nx):\n",
    "    for j in range(NumGLP):\n",
    "        for k in range(dimPk):\n",
    "            u_num[i,j] += uh[i,k] * phi_Gauss[j,k] # 计算u在高斯点的值\n",
    "\n",
    "plt.plot(xc, u_num[:,0])\n",
    "plt.scatter(xc, [u0(x) for x in xc], c='r', s=1)"
   ]
  },
  {
   "cell_type": "code",
   "execution_count": 19,
   "metadata": {},
   "outputs": [
    {
     "data": {
      "text/plain": [
       "0.9934684298264731"
      ]
     },
     "execution_count": 19,
     "metadata": {},
     "output_type": "execute_result"
    }
   ],
   "source": [
    "max(u_num[:,0])"
   ]
  }
 ],
 "metadata": {
  "kernelspec": {
   "display_name": "Python 3",
   "language": "python",
   "name": "python3"
  },
  "language_info": {
   "codemirror_mode": {
    "name": "ipython",
    "version": 3
   },
   "file_extension": ".py",
   "mimetype": "text/x-python",
   "name": "python",
   "nbconvert_exporter": "python",
   "pygments_lexer": "ipython3",
   "version": "3.10.12"
  }
 },
 "nbformat": 4,
 "nbformat_minor": 2
}
