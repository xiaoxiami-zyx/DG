{
 "cells": [
  {
   "cell_type": "code",
   "execution_count": 1,
   "metadata": {},
   "outputs": [],
   "source": [
    "import numpy as np\n",
    "import matplotlib.pyplot as plt\n",
    "from fun import *"
   ]
  },
  {
   "cell_type": "code",
   "execution_count": 2,
   "metadata": {},
   "outputs": [],
   "source": [
    "gammar = 1.4 \n",
    "Nx = 600\n",
    "k = 2\n",
    "NumGLP = 5\n",
    "dimPk = k + 1\n",
    "NumEq = 3\n",
    "CFL = 0.15\n",
    "flux_type = 1\n",
    "Limit_type = 2"
   ]
  },
  {
   "cell_type": "code",
   "execution_count": 3,
   "metadata": {},
   "outputs": [],
   "source": [
    "# 获取高斯积分点和权重\n",
    "point, weight = get_GLP(NumGLP)"
   ]
  },
  {
   "cell_type": "code",
   "execution_count": 4,
   "metadata": {},
   "outputs": [],
   "source": [
    "# 网格\n",
    "xa = 0\n",
    "xb = 1\n",
    "hx = (xb - xa)/Nx\n",
    "h1 = 0.5*hx\n",
    "x = np.linspace(xa, xb, Nx+1)\n",
    "xc = np.linspace(xa + h1, xb - h1, Nx)\n",
    "\n",
    "# 初始场\n",
    "U = np.zeros((NumEq, Nx, NumGLP)) # [rho, rho*u, E]\n",
    "for i in range(Nx):\n",
    "    for j in range(NumGLP):\n",
    "        x = xc[i] + h1 * point[j]\n",
    "        U[0,i,j] = rho0(x)\n",
    "        U[1,i,j] = rho0(x) * u0(x)\n",
    "        U[2,i,j] = p0(x) / (gammar -1) + 0.5 * rho0(x) * u0(x) * u0(x)"
   ]
  },
  {
   "cell_type": "code",
   "execution_count": 5,
   "metadata": {},
   "outputs": [],
   "source": [
    "# 基函数在高斯点的值和导数\n",
    "# 基函数定义为 1, X, X^2-1/3, ...\n",
    "#  -1 < X < 1\n",
    "phi_gauss = np.zeros((NumGLP, dimPk))\n",
    "phi_grad_gauss = np.zeros((NumGLP, dimPk))\n",
    "phi_r = np.zeros(dimPk)\n",
    "phi_l = np.zeros(dimPk)\n",
    "mass = np.asarray([1, 1/3, 4/45])\n",
    "for i in range(NumGLP):\n",
    "    phi_gauss[i,0] = 1\n",
    "    phi_grad_gauss[i,0] = 0\n",
    "\n",
    "    phi_gauss[i,1] = point[i]\n",
    "    phi_grad_gauss[i,1] = 1 / h1\n",
    "\n",
    "    phi_gauss[i,2] = point[i] ** 2 - 1/3\n",
    "    phi_grad_gauss[i,2] = 2 * point[i] / h1\n",
    "\n",
    "phi_r[0] = 1; phi_r[1] = -1; phi_r[2] = 2 / 3\n",
    "phi_l[0] = 1; phi_l[1] = 1; phi_l[2] = 2 / 3"
   ]
  },
  {
   "cell_type": "code",
   "execution_count": 6,
   "metadata": {},
   "outputs": [],
   "source": [
    "# 将初始场投影到基函数上，获取基函数系数初始值\n",
    "uh = np.zeros((NumEq, Nx, dimPk))\n",
    "weight_matrix = np.diag(weight)\n",
    "# for i in range(Nx):\n",
    "#     for j in range(dimPk):\n",
    "#         for k in range(NumGLP):\n",
    "#             for m in range(NumEq):\n",
    "#                 uh[m,i,j] += 0.5 * weight_matrix[k,k] * U[m,i,k] * phi_gauss[k,j]\n",
    "for m in range(NumEq):\n",
    "    uh[m] = 0.5 * U[m] @ weight_matrix @ phi_gauss\n",
    "for d in range(dimPk):\n",
    "    uh[:,:,d] /= mass[d]"
   ]
  },
  {
   "cell_type": "code",
   "execution_count": 7,
   "metadata": {},
   "outputs": [],
   "source": [
    "# 计算波速alpha\n",
    "alpha = 1\n",
    "for i in range(Nx):\n",
    "    alpha1, alpha2 = wavespeed(uh[:,i,0])\n",
    "    alpha = max(alpha, alpha1, alpha2)\n",
    "dt = CFL * hx / alpha"
   ]
  }
 ],
 "metadata": {
  "kernelspec": {
   "display_name": "Python 3",
   "language": "python",
   "name": "python3"
  },
  "language_info": {
   "codemirror_mode": {
    "name": "ipython",
    "version": 3
   },
   "file_extension": ".py",
   "mimetype": "text/x-python",
   "name": "python",
   "nbconvert_exporter": "python",
   "pygments_lexer": "ipython3",
   "version": "3.10.12"
  }
 },
 "nbformat": 4,
 "nbformat_minor": 2
}
